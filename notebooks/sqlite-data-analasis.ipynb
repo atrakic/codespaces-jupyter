{
 "cells": [
  {
   "cell_type": "code",
   "execution_count": null,
   "metadata": {},
   "outputs": [],
   "source": []
  },
  {
   "cell_type": "code",
   "execution_count": 7,
   "metadata": {},
   "outputs": [
    {
     "name": "stdout",
     "output_type": "stream",
     "text": [
      "[('2023-04-01', 'BUY', 'RHAT', 100.0, 35.14)]\n",
      "[('RHAT', 35.14)]\n",
      "         date trans symbol    qty  price\n",
      "0  2023-04-01   BUY   RHAT  100.0  35.14\n"
     ]
    }
   ],
   "source": [
    "import sqlite3\n",
    "import pandas as pd\n",
    "\n",
    "conn = sqlite3.connect(':memory:')\n",
    "c = conn.cursor()\n",
    "\n",
    "c.execute('''CREATE TABLE IF NOT EXISTS stocks\n",
    "             (date text, trans text, symbol text, qty real, price real)''')\n",
    "\n",
    "c.execute(\"INSERT INTO stocks VALUES ('2023-04-01','BUY','RHAT',100,35.14)\")\n",
    "conn.commit()\n",
    "\n",
    "c.execute('SELECT * FROM stocks')\n",
    "print(c.fetchall())\n",
    "\n",
    "c.execute('SELECT symbol, AVG(price) FROM stocks GROUP BY symbol')\n",
    "print(c.fetchall())\n",
    "\n",
    "df = pd.read_sql_query(\"SELECT * from stocks where trans == 'BUY' \", conn)\n",
    "print(df)\n",
    "\n",
    "conn.close()"
   ]
  },
  {
   "cell_type": "markdown",
   "metadata": {},
   "source": []
  }
 ],
 "metadata": {
  "kernelspec": {
   "display_name": "Python 3 (ipykernel)",
   "language": "python",
   "name": "python3"
  },
  "language_info": {
   "codemirror_mode": {
    "name": "ipython",
    "version": 3
   },
   "file_extension": ".py",
   "mimetype": "text/x-python",
   "name": "python",
   "nbconvert_exporter": "python",
   "pygments_lexer": "ipython3",
   "version": "3.11.6"
  }
 },
 "nbformat": 4,
 "nbformat_minor": 4
}
