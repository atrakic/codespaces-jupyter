{
 "cells": [
  {
   "cell_type": "code",
   "execution_count": null,
   "metadata": {},
   "outputs": [],
   "source": []
  },
  {
   "cell_type": "code",
   "execution_count": 2,
   "metadata": {},
   "outputs": [
    {
     "name": "stdout",
     "output_type": "stream",
     "text": [
      "[('2023-04-01', 'BUY', 'RHAT', 100.0, 35.14)]\n",
      "[('RHAT', 35.14)]\n"
     ]
    }
   ],
   "source": [
    "# Cell 1: Import necessary libraries\n",
    "import sqlite3\n",
    "import pandas as pd\n",
    "\n",
    "# Cell 2: Create a SQLite database and connect\n",
    "conn = sqlite3.connect(':memory:')\n",
    "c = conn.cursor()\n",
    "\n",
    "# Cell 3: Create a table\n",
    "c.execute('''CREATE TABLE IF NOT EXISTS stocks\n",
    "             (date text, trans text, symbol text, qty real, price real)''')\n",
    "\n",
    "# Cell 4: Insert data\n",
    "c.execute(\"INSERT INTO stocks VALUES ('2023-04-01','BUY','RHAT',100,35.14)\")\n",
    "conn.commit()\n",
    "\n",
    "# Cell 5: Query data\n",
    "c.execute('SELECT * FROM stocks')\n",
    "print(c.fetchall())\n",
    "\n",
    "# Cell 6: Advanced operations (Example: Simple aggregation)\n",
    "c.execute('SELECT symbol, AVG(price) FROM stocks GROUP BY symbol')\n",
    "print(c.fetchall())\n",
    "\n",
    "# Cell 7: Close the database connection\n",
    "conn.close()"
   ]
  },
  {
   "cell_type": "markdown",
   "metadata": {},
   "source": []
  }
 ],
 "metadata": {
  "kernelspec": {
   "display_name": "Python 3",
   "language": "python",
   "name": "python3"
  },
  "language_info": {
   "codemirror_mode": {
    "name": "ipython",
    "version": 3
   },
   "file_extension": ".py",
   "mimetype": "text/x-python",
   "name": "python",
   "nbconvert_exporter": "python",
   "pygments_lexer": "ipython3",
   "version": "3.10.13"
  }
 },
 "nbformat": 4,
 "nbformat_minor": 2
}
