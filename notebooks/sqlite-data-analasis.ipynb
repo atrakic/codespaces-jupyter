{
 "cells": [
  {
   "cell_type": "code",
   "execution_count": null,
   "metadata": {},
   "outputs": [],
   "source": []
  },
  {
   "cell_type": "code",
   "execution_count": null,
   "metadata": {},
   "outputs": [],
   "source": [
    "# Cell 1: Import necessary libraries\n",
    "import sqlite3\n",
    "import pandas as pd\n",
    "\n",
    "# Cell 2: Create a SQLite database and connect\n",
    "conn = sqlite3.connect('example.db')\n",
    "c = conn.cursor()\n",
    "\n",
    "# Cell 3: Create a table\n",
    "c.execute('''CREATE TABLE IF NOT EXISTS stocks\n",
    "             (date text, trans text, symbol text, qty real, price real)''')\n",
    "\n",
    "# Cell 4: Insert data\n",
    "c.execute(\"INSERT INTO stocks VALUES ('2023-04-01','BUY','RHAT',100,35.14)\")\n",
    "conn.commit()\n",
    "\n",
    "# Cell 5: Query data\n",
    "c.execute('SELECT * FROM stocks')\n",
    "print(c.fetchall())\n",
    "\n",
    "# Cell 6: Advanced operations (Example: Simple aggregation)\n",
    "c.execute('SELECT symbol, AVG(price) FROM stocks GROUP BY symbol')\n",
    "print(c.fetchall())\n",
    "\n",
    "# Cell 7: Close the database connection\n",
    "conn.close()"
   ]
  },
  {
   "cell_type": "markdown",
   "metadata": {},
   "source": []
  }
 ],
 "metadata": {
  "language_info": {
   "name": "python"
  }
 },
 "nbformat": 4,
 "nbformat_minor": 2
}
