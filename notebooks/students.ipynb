{
 "cells": [
  {
   "cell_type": "markdown",
   "metadata": {},
   "source": [
    "# The big 6\n",
    " - SELECT\n",
    " - FROM\n",
    " - WHERE\n",
    " - GROUP BY\n",
    " - HAVING\n",
    " - ORDER BY\n"
   ]
  },
  {
   "cell_type": "code",
   "execution_count": 14,
   "metadata": {
    "vscode": {
     "languageId": "shellscript"
    }
   },
   "outputs": [],
   "source": [
    "%%sh\n",
    "# Open the sqlite3 CLI and create the database from the SQL file\n",
    "rm -rf sample.db\n",
    "sqlite3 sample.db < ./data/sample.sql"
   ]
  },
  {
   "cell_type": "code",
   "execution_count": 67,
   "metadata": {
    "vscode": {
     "languageId": "shellscript"
    }
   },
   "outputs": [
    {
     "name": "stdout",
     "output_type": "stream",
     "text": [
      "id|student_name|grade_level|gpa|school_lunch|birthday|email\n",
      "1|Abby Johnson|10|3.1|Yes|2008-05-14|abby.johnson@mavenhighschool.com\n",
      "2|Bob Smith|11|3.1|No|2007-09-30|bob.smith@mavenhighschool.com\n",
      "3|Catherine Davis|12|3.6|Yes|2006-11-21|catherine.davis@mavenhighschool.com\n",
      "4|Daniel Brown|9|3.5|Yes|2009-03-10|daniel.brown@mavenhighschool.com\n",
      "5|Eva Martinez|10|2.7|No|2008-02-05|eva.martinez@mavenhighschool.com\n"
     ]
    }
   ],
   "source": [
    "%%sh\n",
    "sqlite3 sample.db <<EOF\n",
    ".headers on\n",
    "SELECT * FROM students\n",
    "LIMIT 5\n",
    "EOF"
   ]
  },
  {
   "cell_type": "markdown",
   "metadata": {},
   "source": [
    "## Show students with gpa over 3.5"
   ]
  },
  {
   "cell_type": "code",
   "execution_count": 59,
   "metadata": {
    "vscode": {
     "languageId": "shellscript"
    }
   },
   "outputs": [
    {
     "name": "stdout",
     "output_type": "stream",
     "text": [
      "student_name|gpa|school_lunch\n",
      "Catherine Davis|3.6|Yes\n",
      "Liam Green|4|Yes\n",
      "Olivia Adams|3.7|Yes\n"
     ]
    }
   ],
   "source": [
    "%%sh\n",
    "sqlite3 sample.db <<EOF\n",
    ".headers on\n",
    "SELECT student_name, gpa, school_lunch\n",
    "FROM students \n",
    "WHERE gpa > 3.5\n",
    "EOF"
   ]
  },
  {
   "cell_type": "markdown",
   "metadata": {},
   "source": [
    "## Sort the students by GPA (ORDER BY)"
   ]
  },
  {
   "cell_type": "code",
   "execution_count": 62,
   "metadata": {
    "vscode": {
     "languageId": "shellscript"
    }
   },
   "outputs": [
    {
     "name": "stdout",
     "output_type": "stream",
     "text": [
      "student_name|gpa|school_lunch\n",
      "Liam Green|4|Yes\n",
      "Olivia Adams|3.7|Yes\n",
      "Catherine Davis|3.6|Yes\n"
     ]
    }
   ],
   "source": [
    "%%sh\n",
    "sqlite3 sample.db <<EOF\n",
    ".headers on\n",
    "SELECT student_name, gpa, school_lunch\n",
    "FROM students\n",
    "WHERE school_lunch = 'Yes' AND gpa > 3.5\n",
    "ORDER BY gpa DESC\n",
    "EOF"
   ]
  },
  {
   "cell_type": "markdown",
   "metadata": {},
   "source": [
    "## Show the avarage gpa for each grade lavel (GROUP BY)"
   ]
  },
  {
   "cell_type": "code",
   "execution_count": 65,
   "metadata": {
    "vscode": {
     "languageId": "shellscript"
    }
   },
   "outputs": [
    {
     "name": "stdout",
     "output_type": "stream",
     "text": [
      "grade_level|avg_gpa\n",
      "9|3.4\n",
      "10|3.15\n",
      "11|3.05\n",
      "12|3.16666666666667\n"
     ]
    }
   ],
   "source": [
    "%%sh\n",
    "sqlite3 sample.db <<EOF\n",
    ".headers on\n",
    "SELECT grade_level, AVG(gpa) AS avg_gpa\n",
    "FROM students\n",
    "GROUP BY grade_level\n",
    "ORDER BY grade_level ASC\n",
    "EOF"
   ]
  },
  {
   "cell_type": "markdown",
   "metadata": {},
   "source": [
    "## Show the grade levels with an avarage gpa bellow 3.3 (HAVING)"
   ]
  },
  {
   "cell_type": "code",
   "execution_count": 58,
   "metadata": {
    "vscode": {
     "languageId": "shellscript"
    }
   },
   "outputs": [
    {
     "name": "stdout",
     "output_type": "stream",
     "text": [
      "grade_level|avg_gpa\n",
      "10|3.15\n",
      "11|3.05\n",
      "12|3.16666666666667\n"
     ]
    }
   ],
   "source": [
    "%%sh\n",
    "sqlite3 sample.db <<EOF\n",
    ".headers on\n",
    "SELECT grade_level, AVG(gpa) AS avg_gpa\n",
    "FROM students\n",
    "GROUP BY grade_level\n",
    "HAVING AVG(gpa) < 3.3\n",
    "ORDER BY grade_level;\n",
    "EOF"
   ]
  },
  {
   "cell_type": "markdown",
   "metadata": {},
   "source": [
    "# JOIN"
   ]
  },
  {
   "cell_type": "code",
   "execution_count": 82,
   "metadata": {
    "vscode": {
     "languageId": "shellscript"
    }
   },
   "outputs": [
    {
     "name": "stdout",
     "output_type": "stream",
     "text": [
      "id|student_name|grade_level|gpa|school_lunch|birthday|email\n",
      "1|Abby Johnson|10|3.1|Yes|2008-05-14|abby.johnson@mavenhighschool.com\n",
      "semester_id|class_id|department|class_name|student_id|final_grade\n",
      "SPR_2024|101|Math|Algebra|4|85\n"
     ]
    }
   ],
   "source": [
    "%%sh\n",
    "\n",
    "sqlite3 sample.db <<EOF\n",
    ".headers on\n",
    "SELECT * FROM students LIMIT 1\n",
    "EOF\n",
    "\n",
    "sqlite3 sample.db <<EOF\n",
    ".headers on\n",
    "SELECT * FROM student_grades LIMIT 1\n",
    "EOF\n"
   ]
  },
  {
   "cell_type": "code",
   "execution_count": 81,
   "metadata": {
    "vscode": {
     "languageId": "shellscript"
    }
   },
   "outputs": [
    {
     "name": "stdout",
     "output_type": "stream",
     "text": [
      "id|student_name|gpa|final_grade\n",
      "1|Abby Johnson|3.1|82\n",
      "1|Abby Johnson|3.1|85\n",
      "1|Abby Johnson|3.1|93\n",
      "1|Abby Johnson|3.1|94\n",
      "2|Bob Smith|3.1|75\n",
      "2|Bob Smith|3.1|80\n",
      "2|Bob Smith|3.1|87\n",
      "2|Bob Smith|3.1|88\n",
      "3|Catherine Davis|3.6|92\n",
      "3|Catherine Davis|3.6|95\n",
      "3|Catherine Davis|3.6|98\n",
      "3|Catherine Davis|3.6|100\n",
      "4|Daniel Brown|3.5|75\n",
      "4|Daniel Brown|3.5|82\n",
      "4|Daniel Brown|3.5|85\n",
      "4|Daniel Brown|3.5|95\n",
      "5|Eva Martinez|2.7|74\n",
      "5|Eva Martinez|2.7|80\n",
      "5|Eva Martinez|2.7|85\n",
      "5|Eva Martinez|2.7|87\n",
      "6|Frank Wilson|3.2|90\n",
      "6|Frank Wilson|3.2|95\n",
      "6|Frank Wilson|3.2|95\n",
      "6|Frank Wilson|3.2|98\n",
      "7|Grace Lee|3|82\n",
      "7|Grace Lee|3|86\n",
      "7|Grace Lee|3|94\n",
      "7|Grace Lee|3|98\n",
      "8|Henry Taylor|3|72\n",
      "8|Henry Taylor|3|76\n",
      "8|Henry Taylor|3|80\n",
      "8|Henry Taylor|3|90\n",
      "9|Isabella Moore|2.8|72\n",
      "9|Isabella Moore|2.8|76\n",
      "9|Isabella Moore|2.8|84\n",
      "9|Isabella Moore|2.8|90\n",
      "10|Jack Thompson|2.9|77\n",
      "10|Jack Thompson|2.9|82\n",
      "10|Jack Thompson|2.9|84\n",
      "10|Jack Thompson|2.9|85\n",
      "11|Karen White|3.4|87\n",
      "11|Karen White|3.4|90\n",
      "11|Karen White|3.4|95\n",
      "11|Karen White|3.4|98\n",
      "12|Liam Green|4|95\n",
      "12|Liam Green|4|96\n",
      "12|Liam Green|4|98\n",
      "12|Liam Green|4|99\n",
      "13|Mia Harris|3|82\n",
      "13|Mia Harris|3|85\n",
      "13|Mia Harris|3|86\n",
      "13|Mia Harris|3|90\n",
      "14|Noah Scott||\n",
      "15|Olivia Adams|3.7|95\n",
      "15|Olivia Adams|3.7|96\n",
      "15|Olivia Adams|3.7|97\n",
      "15|Olivia Adams|3.7|99\n",
      "16|Peter Park|2.9|71\n",
      "16|Peter Park|2.9|74\n",
      "16|Peter Park|2.9|86\n",
      "16|Peter Park|2.9|95\n"
     ]
    }
   ],
   "source": [
    "%%sh\n",
    "\n",
    "sqlite3 sample.db <<EOF\n",
    ".headers on\n",
    "SELECT students.id, students.student_name, \n",
    "    students.gpa, student_grades.final_grade\n",
    "FROM students LEFT JOIN student_grades\n",
    "    ON students.id = student_grades.student_id\n",
    "-- LIMIT 5\n",
    "EOF"
   ]
  },
  {
   "cell_type": "code",
   "execution_count": null,
   "metadata": {
    "vscode": {
     "languageId": "shellscript"
    }
   },
   "outputs": [],
   "source": [
    "## Window Functions\n",
    "> Window functions are a way to perform calculations across a set of table rows that are related to the current row."
   ]
  },
  {
   "cell_type": "code",
   "execution_count": 3,
   "metadata": {
    "vscode": {
     "languageId": "shellscript"
    }
   },
   "outputs": [
    {
     "name": "stdout",
     "output_type": "stream",
     "text": [
      "student_name|gpa|row_num\n",
      "Liam Green|4|1\n",
      "Olivia Adams|3.7|2\n",
      "Catherine Davis|3.6|3\n",
      "Daniel Brown|3.5|4\n",
      "Karen White|3.4|5\n"
     ]
    }
   ],
   "source": [
    "%%sh\n",
    "\n",
    "sqlite3 sample.db <<EOF\n",
    ".headers on\n",
    "SELECT student_name, gpa, \n",
    "    ROW_NUMBER() OVER(ORDER BY gpa DESC) AS row_num\n",
    "-- /* window function */\n",
    "FROM students\n",
    "ORDER BY gpa DESC\n",
    "LIMIT 5\n",
    "EOF"
   ]
  },
  {
   "cell_type": "code",
   "execution_count": 9,
   "metadata": {
    "vscode": {
     "languageId": "shellscript"
    }
   },
   "outputs": [
    {
     "name": "stdout",
     "output_type": "stream",
     "text": [
      "student_name|gpa|row_num|rank_num|dense_rank_num\n",
      "Liam Green|4|1|1|1\n",
      "Olivia Adams|3.7|2|2|2\n",
      "Catherine Davis|3.6|3|3|3\n",
      "Daniel Brown|3.5|4|4|4\n",
      "Karen White|3.4|5|5|5\n"
     ]
    }
   ],
   "source": [
    "%%sh\n",
    "\n",
    "sqlite3 sample.db <<EOF\n",
    ".headers on\n",
    "SELECT student_name, gpa, \n",
    "    ROW_NUMBER() OVER(ORDER BY gpa DESC) AS row_num,\n",
    "    RANK() OVER(ORDER BY gpa DESC) AS rank_num,\n",
    "    DENSE_RANK() OVER(ORDER BY gpa DESC) AS dense_rank_num\n",
    "FROM students\n",
    "ORDER BY gpa DESC\n",
    "LIMIT 5\n",
    "EOF"
   ]
  },
  {
   "cell_type": "markdown",
   "metadata": {},
   "source": [
    "# Common Table Expression (CTE) "
   ]
  },
  {
   "cell_type": "code",
   "execution_count": 22,
   "metadata": {
    "vscode": {
     "languageId": "shellscript"
    }
   },
   "outputs": [
    {
     "name": "stdout",
     "output_type": "stream",
     "text": [
      "student_id|class_id|avg_final_grade\n",
      "4|101|87.0\n",
      "1|102|81.6666666666667\n",
      "2|103|88.8\n",
      "3|104|85.0\n",
      "4|201|84.25\n",
      "1|202|85.8\n",
      "3|203|85.0\n",
      "1|301|86.4285714285714\n",
      "2|302|88.25\n",
      "1|401|90.0\n",
      "3|404|97.6666666666667\n"
     ]
    }
   ],
   "source": [
    "%%sh\n",
    "\n",
    "sqlite3 sample.db <<EOF\n",
    ".headers on\n",
    "\n",
    "SELECT student_id, class_id, AVG(final_grade ) AS avg_final_grade\n",
    "FROM student_grades\n",
    "GROUP BY class_id\n",
    "\n",
    "EOF"
   ]
  },
  {
   "cell_type": "code",
   "execution_count": 21,
   "metadata": {
    "vscode": {
     "languageId": "shellscript"
    }
   },
   "outputs": [
    {
     "name": "stdout",
     "output_type": "stream",
     "text": [
      "id|student_name|grade_level|avg_final_grade\n",
      "3|Catherine Davis|12|85.0\n",
      "3|Catherine Davis|12|85.0\n",
      "3|Catherine Davis|12|97.6666666666667\n",
      "2|Bob Smith|11|88.8\n",
      "2|Bob Smith|11|88.25\n",
      "1|Abby Johnson|10|81.6666666666667\n",
      "1|Abby Johnson|10|85.8\n",
      "1|Abby Johnson|10|86.4285714285714\n",
      "1|Abby Johnson|10|90.0\n",
      "4|Daniel Brown|9|87.0\n",
      "4|Daniel Brown|9|84.25\n"
     ]
    }
   ],
   "source": [
    "%%sh\n",
    "\n",
    "sqlite3 sample.db <<EOF\n",
    ".headers on\n",
    "\n",
    "WITH ClassAverageGPA AS (\n",
    "    SELECT student_id, class_id, AVG(final_grade ) AS avg_final_grade\n",
    "    FROM student_grades\n",
    "    GROUP BY class_id\n",
    ")\n",
    "\n",
    "SELECT s.id, s.student_name, s.grade_level, c.avg_final_grade\n",
    "FROM students s\n",
    "JOIN ClassAverageGPA c ON s.id = c.student_id\n",
    "-- WHERE s.grade_level > c.avg_final_grade\n",
    "ORDER BY s.grade_level DESC\n",
    "EOF"
   ]
  }
 ],
 "metadata": {
  "kernelspec": {
   "display_name": "Python 3 (ipykernel)",
   "language": "python",
   "name": "python3"
  },
  "language_info": {
   "codemirror_mode": {
    "name": "ipython",
    "version": 3
   },
   "file_extension": ".py",
   "mimetype": "text/x-python",
   "name": "python",
   "nbconvert_exporter": "python",
   "pygments_lexer": "ipython3",
   "version": "3.11.6"
  }
 },
 "nbformat": 4,
 "nbformat_minor": 2
}
